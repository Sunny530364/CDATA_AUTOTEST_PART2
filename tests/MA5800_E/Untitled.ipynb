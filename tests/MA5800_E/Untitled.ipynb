{
 "cells": [
  {
   "cell_type": "code",
   "execution_count": 120,
   "metadata": {},
   "outputs": [
    {
     "name": "stdout",
     "output_type": "stream",
     "text": [
      "renix python api init begin\n",
      "log path: c:\\users\\luhairui\\appdata\\local\\programs\\python\\python38\\lib\\site-packages\\logs\\ipykernel_launcher_Aug_11_20_09_15_04.log\n"
     ]
    },
    {
     "name": "stderr",
     "output_type": "stream",
     "text": [
      "[INFO] 2020-08-11 09:15:38,003  Receive Msg: listen_port 9001\n",
      "\n",
      "[INFO] 2020-08-11 09:15:38,003  Receive Msg: listen_port 9001\n",
      "\n",
      "[INFO] 2020-08-11 09:15:38,003  Receive Msg: listen_port 9001\n",
      "\n",
      "[INFO] 2020-08-11 09:15:38,125  Renix api initialization finished\n",
      "[INFO] 2020-08-11 09:15:38,125  Renix api initialization finished\n",
      "[INFO] 2020-08-11 09:15:38,125  Renix api initialization finished\n"
     ]
    }
   ],
   "source": [
    "from renix_py_api.renix import *\n",
    "initialize(log_level=logging.INFO)\n",
    "from renix_py_api.api_gen import *\n",
    "from renix_py_api.core import EnumRelationDirection\n",
    "from renix_py_api.rom_manager import *\n",
    "\n",
    "# 占用测试仪接口\n",
    "def create_ports(sys_entry, locations):\n",
    "    renix_info('Create ports with locations:{}'.format(locations))\n",
    "    port1 = Port(upper=sys_entry, location=locations[0])\n",
    "    port2 = Port(upper=sys_entry, location=locations[1])\n",
    "    assert port1.handle\n",
    "    assert port2.handle\n",
    "    bring_port_online_cmd = BringPortsOnlineCommand(portlist=[port1.handle, port2.handle])\n",
    "    bring_port_online_cmd.execute()\n",
    "    print(wait_port_online(port1))\n",
    "    if not wait_port_online(port1):\n",
    "        raise Exception('bring online port({}) failed'.format(port1.handle))\n",
    "    if not wait_port_online(port2):\n",
    "        raise Exception('bring online port({}) failed'.format(port2.handle))\n",
    "    return port1, port2\n",
    "\n",
    "\n",
    "# 创建带VLAN的数据量\n",
    "def create_stream_vlan(port, packet_length=128):\n",
    "    renix_info('port({}) create streams'.format(port_location))\n",
    "    stream = StreamTemplate(upper=port)\n",
    "    assert stream.handle\n",
    "    create_stream_header_cmd = CreateHeaderCommand(stream.handle,\n",
    "                                                   ['Ethernet.ethernetII', 'VLAN.vlan', 'IPv4.ipv4', 'UDP.udp'])\n",
    "    create_stream_header_cmd.execute()\n",
    "    if len(create_stream_header_cmd.HeaderNames) != 4:\n",
    "        raise Exception('{} create EthernetII and IPv4 header failed'.format(stream.handle))\n",
    "    stream.FixedLength = packet_length\n",
    "    stream.get()\n",
    "    return stream\n",
    "\n",
    "\n",
    "# 创建不带VLAN的数据量\n",
    "def create_stream(port, packet_length=128):\n",
    "    renix_info('port({}) create streams'.format(port_location))\n",
    "    stream = StreamTemplate(upper=port)\n",
    "    assert stream.handle\n",
    "    create_stream_header_cmd = CreateHeaderCommand(stream.handle, ['Ethernet.ethernetII', 'IPv4.ipv4', 'UDP.udp'])\n",
    "    create_stream_header_cmd.execute()\n",
    "    if len(create_stream_header_cmd.HeaderNames) != 3:\n",
    "        raise Exception('{} create EthernetII and IPv4 header failed'.format(stream.handle))\n",
    "    stream.FixedLength = packet_length\n",
    "    stream.get()\n",
    "    return stream\n",
    "\n",
    "\n",
    "# 编辑数据流\n",
    "def edit_stream(stream, parameter):\n",
    "    update_header_cmd = UpdateHeaderCommand(Stream=stream.handle, Parameter=parameter)\n",
    "    update_header_cmd.execute()\n",
    "    stream.get()\n",
    "\n",
    "\n",
    "# 等待测试仪端口上线\n",
    "def wait_port_online(port, times=30):\n",
    "    while times:\n",
    "        if port.Online:\n",
    "            return True\n",
    "        else:\n",
    "            times -= 1\n",
    "            time.sleep(1)\n",
    "    else:\n",
    "        return False"
   ]
  },
  {
   "cell_type": "code",
   "execution_count": 121,
   "metadata": {},
   "outputs": [],
   "source": [
    "port_location  = ['//192.168.0.180/1/1', '//192.168.0.180/1/2']\n",
    "stream_rate = \"10\"\n",
    "stream_num = \"100000\"\n",
    "download_capture_num = \"100000\"\n",
    "olt_type = \"FD1216S\"\n",
    "olt_mgt_ip = \"192.168.5.82\"\n",
    "olt_username = \"test111\"\n",
    "olt_password = \"test123\"\n",
    "file_name = \"FD314_504_704_EGX_RC_SFU_V1.0.9_200407_X000.tar\"\n",
    "tftp_server_ip = \"192.168.5.221\"\n",
    "User_Vlan = \"2000\"\n",
    "Vlan_list = \"2000,4001\"\n",
    "Internet_Vlan = \"4001\"\n",
    "Server_Vlan = \"2000\"\n",
    "Ont_Srvprofile_ID = \"9\"\n",
    "Ont_Lineprofile_ID = \"4\"\n",
    "Ont_Igmpprofile_ID = \"200\"\n",
    "Traffic_Profile_ID_inbound = \"1\"\n",
    "Traffic_Profile_ID_outbound = \"2\"\n",
    "ONU_MAC = 'E0:67:B3:88:88:88'\n",
    "Dba_Profile_ID = \"100\"\n",
    "FrameID = \"0\"\n",
    "SlotID  = \"0\"\n",
    "PonID = \"0\"\n",
    "OnuID = \"0\"\n",
    "Gemport_ID = \"1\"\n",
    "Ont_Port_ID = \"1\"\n",
    "SN = \"52544B4711111125\"\n",
    "SN_PASSWORD  = \"1234567890\"\n",
    "LOID = \"zhongqi\"\n",
    "LOID_PASSWORD = \"zhongqi\"\n",
    "Ping_test_addr = \"www.baidu.com\"\n",
    "Network_car_name  = \"ASIX AX88772C USB2.0 to Fast Ethernet Adapter\"\n",
    "pppoe_client = \"宽带连接\"\n",
    "pppoe_name = \"csb_1\"\n",
    "pppoe_password = \"csb_1\""
   ]
  },
  {
   "cell_type": "code",
   "execution_count": 6,
   "metadata": {},
   "outputs": [
    {
     "name": "stderr",
     "output_type": "stream",
     "text": [
      "[INFO] 2020-08-10 20:25:10,684  Create ports with locations:['//192.168.0.180/1/1', '//192.168.0.180/1/2']\n",
      "[INFO] 2020-08-10 20:25:10,684  Create ports with locations:['//192.168.0.180/1/1', '//192.168.0.180/1/2']\n",
      "[INFO] 2020-08-10 20:25:19,523  EthCopper_3 has lower: EthCopperConfig_3\n",
      "[INFO] 2020-08-10 20:25:19,523  EthCopper_3 has lower: EthCopperConfig_3\n",
      "[INFO] 2020-08-10 20:25:19,542  EthCopper_4 has lower: EthCopperConfig_4\n",
      "[INFO] 2020-08-10 20:25:19,542  EthCopper_4 has lower: EthCopperConfig_4\n",
      "[INFO] 2020-08-10 20:25:19,559  StreamPortConfig_3 has lower: InterFrameGapProfile_3\n",
      "[INFO] 2020-08-10 20:25:19,559  StreamPortConfig_3 has lower: InterFrameGapProfile_3\n",
      "[INFO] 2020-08-10 20:25:19,580  StreamPortConfig_4 has lower: InterFrameGapProfile_4\n",
      "[INFO] 2020-08-10 20:25:19,580  StreamPortConfig_4 has lower: InterFrameGapProfile_4\n",
      "[INFO] 2020-08-10 20:25:19,649  port(['//192.168.0.180/1/1', '//192.168.0.180/1/2']) create streams\n"
     ]
    },
    {
     "name": "stdout",
     "output_type": "stream",
     "text": [
      "True\n",
      "===========================================================================\n",
      "当前端口1的协商速率为：EnumLineSpeed.SPEED_1G\n",
      "当前端口2的协商速率为：EnumLineSpeed.SPEED_1G\n",
      "===========================================================================\n"
     ]
    },
    {
     "name": "stderr",
     "output_type": "stream",
     "text": [
      "[INFO] 2020-08-10 20:25:19,649  port(['//192.168.0.180/1/1', '//192.168.0.180/1/2']) create streams\n",
      "[INFO] 2020-08-10 20:25:19,850  port(['//192.168.0.180/1/1', '//192.168.0.180/1/2']) create streams\n",
      "[INFO] 2020-08-10 20:25:19,850  port(['//192.168.0.180/1/1', '//192.168.0.180/1/2']) create streams\n",
      "[INFO] 2020-08-10 20:25:21,170  PageResultView_1 has lower: ResultQuery_1\n",
      "[INFO] 2020-08-10 20:25:21,170  PageResultView_1 has lower: ResultQuery_1\n"
     ]
    }
   ],
   "source": [
    "time.sleep(3)\n",
    "reset_rom_cmd = ResetROMCommand()\n",
    "reset_rom_cmd.execute()\n",
    "# service-port配置完成后，需要等待一段时间流才能通\n",
    "time.sleep(10)\n",
    "sys_entry = get_sys_entry()\n",
    "\n",
    "# 占用测试仪端口\n",
    "port1, port2 = create_ports(sys_entry, port_location)\n",
    "\n",
    "# 插卡测试仪接口当前的双工速率\n",
    "print(\"===========================================================================\")\n",
    "print(\"当前端口1的协商速率为：%s\" % ((port1.get_children('EthCopper')[0].LineSpeed)))\n",
    "print(\"当前端口2的协商速率为：%s\" % ((port2.get_children('EthCopper')[0].LineSpeed)))\n",
    "print(\"===========================================================================\")\n",
    "\n",
    "# 配置测试仪Load Profiles模板(速率为10%，打流方式为突发方式，双向发送100000个报文)\n",
    "stream_port_cfg_1 = port1.get_children(StreamPortConfig.cls_name())[0]\n",
    "inter_frame_gap_cfg_1 = stream_port_cfg_1.get_children(InterFrameGapProfile.cls_name())[0]\n",
    "inter_frame_gap_cfg_1.edit(Rate=int(stream_rate))\n",
    "stream_port_cfg_2 = port2.get_children(StreamPortConfig.cls_name())[0]\n",
    "inter_frame_gap_cfg_2 = stream_port_cfg_2.get_children(InterFrameGapProfile.cls_name())[0]\n",
    "inter_frame_gap_cfg_2.edit(Rate=int(stream_rate))\n",
    "stream_port_cfg_1.edit(TransmitMode=EnumTransmitMode.BURST)\n",
    "stream_port_cfg_2.edit(TransmitMode=EnumTransmitMode.BURST)\n",
    "stream_port_cfg_1.get()\n",
    "stream_port_cfg_2.get()\n",
    "Burst_transmit_config_1 = stream_port_cfg_1.get_children('BurstTransmitConfig')[0]\n",
    "Burst_transmit_config_2 = stream_port_cfg_2.get_children('BurstTransmitConfig')[0]\n",
    "Burst_transmit_config_1.edit(FramePerBurst=int(stream_num))\n",
    "Burst_transmit_config_2.edit(FramePerBurst=int(stream_num))\n",
    "\n",
    "# 创建数据流\n",
    "stream1_2 = create_stream(port1)\n",
    "stream2_1 = create_stream(port2)\n",
    "edit_stream(stream1_2, 'ethernetII_1.sourceMacAdd=00:00:00:12:11:11 ethernetII_1.destMacAdd=00:00:00:21:22:22')\n",
    "edit_stream(stream2_1, 'ethernetII_1.sourceMacAdd=00:00:00:21:22:22 ethernetII_1.destMacAdd=00:00:00:12:11:11')\n",
    "# edit_stream(stream1_2,'vlan_1.id.XetModifier.StreamType=InterModifier vlan_1.id.XetModifier.Type=Increment vlan_1.id.XetModifier.Start=1001 vlan_1.id.XetModifier.Step=1 vlan_1.id.XetModifier.Count=5')\n",
    "# edit_stream(stream2_1,'vlan_1.id.XetModifier.StreamType=InterModifier vlan_1.id.XetModifier.Type=Increment vlan_1.id.XetModifier.Start=1001 vlan_1.id.XetModifier.Step=1 vlan_1.id.XetModifier.Count=5')\n",
    "edit_stream(stream1_2,\n",
    "            'ipv4_1.destination.XetModifier.StreamType=InterModifier ipv4_1.destination.XetModifier.Type=Increment ipv4_1.destination.XetModifier.Start=192.168.0.222 ipv4_1.destination.XetModifier.Step=1 ipv4_1.destination.XetModifier.Count=5')\n",
    "edit_stream(stream2_1,\n",
    "            'ipv4_1.destination.XetModifier.StreamType=InterModifier ipv4_1.destination.XetModifier.Type=Increment ipv4_1.destination.XetModifier.Start=192.168.0.111 ipv4_1.destination.XetModifier.Step=1 ipv4_1.destination.XetModifier.Count=5')\n",
    "edit_stream(stream1_2,\n",
    "            'ipv4_1.source.XetModifier.StreamType=InterModifier ipv4_1.source.XetModifier.Type=Increment ipv4_1.source.XetModifier.Start=192.168.0.111 ipv4_1.source.XetModifier.Step=1 ipv4_1.source.XetModifier.Count=5')\n",
    "edit_stream(stream2_1,\n",
    "            'ipv4_1.source.XetModifier.StreamType=InterModifier ipv4_1.source.XetModifier.Type=Increment ipv4_1.source.XetModifier.Start=192.168.0.222 ipv4_1.source.XetModifier.Step=1 ipv4_1.source.XetModifier.Count=5')\n",
    "stream1_2.set_relatives('RxPort', port2, EnumRelationDirection.TARGET)\n",
    "stream2_1.set_relatives('RxPort', port1, EnumRelationDirection.TARGET)\n",
    "\n",
    "# 配置测试仪查看测试结果的视图\n",
    "resultView_create = CreateResultViewCommand(DataClassName=StreamBlockStats.cls_name())\n",
    "resultView_create.execute()\n",
    "resultView_create = ROMManager.get_object(resultView_create.ResultViewHandle)\n",
    "subscribe_result_cmd = SubscribeResultCommand(ResultViewHandles=resultView_create.handle)\n",
    "subscribe_result_cmd.execute()\n",
    "# cap_conf_1 = port1.get_children('CaptureConfig')[0]\n",
    "# cap_conf_2 = port2.get_children('CaptureConfig')[0]\n",
    "\n",
    "# 开始测试仪抓包\n",
    "# start_all_cap_cmd = StartAllCaptureCommand()\n",
    "# start_all_cap_cmd.execute()\n",
    "sys_entry.get()\n",
    "page_result_view = sys_entry.get_children(PageResultView.cls_name())[0]"
   ]
  },
  {
   "cell_type": "code",
   "execution_count": 7,
   "metadata": {},
   "outputs": [
    {
     "name": "stderr",
     "output_type": "stream",
     "text": [
      "[INFO] 2020-08-10 20:25:33,771  ResultQuery_1 has lower: StreamBlockStats_1\n",
      "[INFO] 2020-08-10 20:25:33,771  ResultQuery_1 has lower: StreamBlockStats_1\n"
     ]
    }
   ],
   "source": [
    "start_all_stream_cmd = StartAllStreamCommand()\n",
    "start_all_stream_cmd.execute()\n",
    "time.sleep(10)\n",
    "result_query = page_result_view.get_children()[0]\n"
   ]
  },
  {
   "cell_type": "code",
   "execution_count": 8,
   "metadata": {},
   "outputs": [
    {
     "name": "stdout",
     "output_type": "stream",
     "text": [
      "<renix_py_api.api_gen.ResultQuery_Autogen.ResultQuery object at 0x0000000009C789D0>\n",
      "[<renix_py_api.api_gen.StreamBlockStats_Autogen.StreamBlockStats object at 0x00000000050D1F70>]\n"
     ]
    },
    {
     "ename": "AttributeError",
     "evalue": "'list' object has no attribute '__dict__'",
     "output_type": "error",
     "traceback": [
      "\u001b[1;31m---------------------------------------------------------------------------\u001b[0m",
      "\u001b[1;31mAttributeError\u001b[0m                            Traceback (most recent call last)",
      "\u001b[1;32m<ipython-input-8-79a18f6ee215>\u001b[0m in \u001b[0;36m<module>\u001b[1;34m\u001b[0m\n\u001b[0;32m      1\u001b[0m \u001b[0mprint\u001b[0m\u001b[1;33m(\u001b[0m\u001b[0mresult_query\u001b[0m\u001b[1;33m)\u001b[0m\u001b[1;33m\u001b[0m\u001b[1;33m\u001b[0m\u001b[0m\n\u001b[0;32m      2\u001b[0m \u001b[0mprint\u001b[0m\u001b[1;33m(\u001b[0m\u001b[0mresult_query\u001b[0m\u001b[1;33m.\u001b[0m\u001b[0mget_children\u001b[0m\u001b[1;33m(\u001b[0m\u001b[1;33m)\u001b[0m\u001b[1;33m)\u001b[0m\u001b[1;33m\u001b[0m\u001b[1;33m\u001b[0m\u001b[0m\n\u001b[1;32m----> 3\u001b[1;33m \u001b[0mprint\u001b[0m\u001b[1;33m(\u001b[0m\u001b[0mresult_query\u001b[0m\u001b[1;33m.\u001b[0m\u001b[0mget_children\u001b[0m\u001b[1;33m(\u001b[0m\u001b[1;33m)\u001b[0m\u001b[1;33m.\u001b[0m\u001b[0m__dict__\u001b[0m\u001b[1;33m)\u001b[0m\u001b[1;33m\u001b[0m\u001b[1;33m\u001b[0m\u001b[0m\n\u001b[0m",
      "\u001b[1;31mAttributeError\u001b[0m: 'list' object has no attribute '__dict__'"
     ]
    }
   ],
   "source": [
    "print(result_query)\n",
    "print(result_query.get_children())\n",
    "print(result_query.get_children().__dict__)\n"
   ]
  },
  {
   "cell_type": "code",
   "execution_count": 20,
   "metadata": {},
   "outputs": [
    {
     "ename": "IndexError",
     "evalue": "list index out of range",
     "output_type": "error",
     "traceback": [
      "\u001b[1;31m---------------------------------------------------------------------------\u001b[0m",
      "\u001b[1;31mIndexError\u001b[0m                                Traceback (most recent call last)",
      "\u001b[1;32m<ipython-input-20-921fadc3ba4e>\u001b[0m in \u001b[0;36m<module>\u001b[1;34m\u001b[0m\n\u001b[1;32m----> 1\u001b[1;33m \u001b[0mprint\u001b[0m\u001b[1;33m(\u001b[0m\u001b[0mresult_query\u001b[0m\u001b[1;33m.\u001b[0m\u001b[0mget_children\u001b[0m\u001b[1;33m(\u001b[0m\u001b[1;33m)\u001b[0m\u001b[1;33m[\u001b[0m\u001b[1;36m1\u001b[0m\u001b[1;33m]\u001b[0m\u001b[1;33m.\u001b[0m\u001b[0m_StreamBlockID\u001b[0m\u001b[1;33m)\u001b[0m\u001b[1;33m\u001b[0m\u001b[1;33m\u001b[0m\u001b[0m\n\u001b[0m",
      "\u001b[1;31mIndexError\u001b[0m: list index out of range"
     ]
    }
   ],
   "source": [
    "print(result_query.get_children()[0]._StreamBlockID)"
   ]
  },
  {
   "cell_type": "code",
   "execution_count": 23,
   "metadata": {},
   "outputs": [
    {
     "name": "stdout",
     "output_type": "stream",
     "text": [
      "{'_Location': '//192.168.0.180/1/2', '_Online': True, '_Name': 'Port_4', '_Enable': True, '_ROMTag': '', 'force_auto_sync': True, 'handle': 'Port_4', 'lower': [<renix_py_api.api_gen.SendPortLinkFault_Autogen.SendPortLinkFault object at 0x0000000009C78130>, <renix_py_api.api_gen.StreamPortConfig_Autogen.StreamPortConfig object at 0x0000000009C78340>, <renix_py_api.api_gen.ArpPortConfig_Autogen.ArpPortConfig object at 0x0000000009C78B80>, <renix_py_api.api_gen.TlsManager_Autogen.TlsManager object at 0x0000000009C78C40>, <renix_py_api.api_gen.CaptureConfig_Autogen.CaptureConfig object at 0x0000000009C78160>, <renix_py_api.api_gen.IgmpPortRateConfig_Autogen.IgmpPortRateConfig object at 0x0000000009C78D30>, <renix_py_api.api_gen.MldPortRateConfig_Autogen.MldPortRateConfig object at 0x0000000009C789A0>, <renix_py_api.api_gen.Dhcpv4PortConfig_Autogen.Dhcpv4PortConfig object at 0x0000000009C78940>, <renix_py_api.api_gen.Dhcpv4ServerPortConfig_Autogen.Dhcpv4ServerPortConfig object at 0x0000000009C78430>, <renix_py_api.api_gen.Dhcpv6PortRateConfig_Autogen.Dhcpv6PortRateConfig object at 0x0000000009C78A60>, <renix_py_api.api_gen.PppoePortRateConfig_Autogen.PppoePortRateConfig object at 0x0000000009C78DF0>, <renix_py_api.api_gen.L2tpPortConfig_Autogen.L2tpPortConfig object at 0x0000000009C78280>, <renix_py_api.api_gen.Dot1xPortConfig_Autogen.Dot1xPortConfig object at 0x0000000009C78970>, <renix_py_api.api_gen.SaaPortRateConfig_Autogen.SaaPortRateConfig object at 0x0000000009C78610>, <renix_py_api.api_gen.PimPortConfig_Autogen.PimPortConfig object at 0x0000000009C78B50>, <renix_py_api.api_gen.BfdPortConfig_Autogen.BfdPortConfig object at 0x0000000009C78E80>, <renix_py_api.api_gen.Ospfv2PortConfig_Autogen.Ospfv2PortConfig object at 0x0000000009C783D0>, <renix_py_api.api_gen.Ospfv3PortConfig_Autogen.Ospfv3PortConfig object at 0x0000000009C78A90>, <renix_py_api.api_gen.IsisPortRateConfig_Autogen.IsisPortRateConfig object at 0x0000000009C78E20>, <renix_py_api.api_gen.VxlanPortRateConfig_Autogen.VxlanPortRateConfig object at 0x0000000009C78760>, <renix_py_api.api_gen.BgpPortRateConfig_Autogen.BgpPortRateConfig object at 0x0000000009C78E50>, <renix_py_api.api_gen.LdpLoadConfig_Autogen.LdpLoadConfig object at 0x0000000009C78B20>, <renix_py_api.api_gen.RipPortRateConfig_Autogen.RipPortRateConfig object at 0x0000000009C78BB0>, <renix_py_api.api_gen.OvsdbPortConfig_Autogen.OvsdbPortConfig object at 0x0000000009C78F10>, <renix_py_api.api_gen.EthCopper_Autogen.EthCopper object at 0x0000000009C78AC0>, <renix_py_api.api_gen.StreamTemplate_Autogen.StreamTemplate object at 0x00000000050E6D90>], 'upper': <renix_py_api.api_gen.SysEntry_Autogen.SysEntry object at 0x000000000982E0A0>, 'relatives': {}}\n"
     ]
    }
   ],
   "source": [
    "print(port2.__dict__)"
   ]
  },
  {
   "cell_type": "code",
   "execution_count": 30,
   "metadata": {},
   "outputs": [
    {
     "name": "stderr",
     "output_type": "stream",
     "text": [
      "[ERROR] 2020-08-10 20:37:18,397  b'_TCLERROR:isinstance() arg 2 must be a type or tuple of types'\n",
      "[ERROR] 2020-08-10 20:37:18,397  b'_TCLERROR:isinstance() arg 2 must be a type or tuple of types'\n"
     ]
    },
    {
     "ename": "RuntimeError",
     "evalue": "Port_3Failed get child nodes",
     "output_type": "error",
     "traceback": [
      "\u001b[1;31m---------------------------------------------------------------------------\u001b[0m",
      "\u001b[1;31mRuntimeError\u001b[0m                              Traceback (most recent call last)",
      "\u001b[1;32m<ipython-input-30-8778ae0ccb83>\u001b[0m in \u001b[0;36m<module>\u001b[1;34m\u001b[0m\n\u001b[1;32m----> 1\u001b[1;33m \u001b[0mprint\u001b[0m\u001b[1;33m(\u001b[0m\u001b[0mport1\u001b[0m\u001b[1;33m.\u001b[0m\u001b[0mget_children\u001b[0m\u001b[1;33m(\u001b[0m\u001b[0mSendPortLinkFault\u001b[0m\u001b[1;33m(\u001b[0m\u001b[1;33m)\u001b[0m\u001b[1;33m)\u001b[0m\u001b[1;33m)\u001b[0m\u001b[1;33m\u001b[0m\u001b[1;33m\u001b[0m\u001b[0m\n\u001b[0m",
      "\u001b[1;32mc:\\users\\luhairui\\appdata\\local\\programs\\python\\python38\\lib\\site-packages\\renix_py_api\\core.py\u001b[0m in \u001b[0;36mget_children\u001b[1;34m(self, relative_name)\u001b[0m\n\u001b[0;32m    300\u001b[0m             \u001b[1;32mreturn\u001b[0m \u001b[0mret_childen\u001b[0m\u001b[1;33m\u001b[0m\u001b[1;33m\u001b[0m\u001b[0m\n\u001b[0;32m    301\u001b[0m         \u001b[1;32melse\u001b[0m\u001b[1;33m:\u001b[0m\u001b[1;33m\u001b[0m\u001b[1;33m\u001b[0m\u001b[0m\n\u001b[1;32m--> 302\u001b[1;33m             \u001b[1;32mraise\u001b[0m \u001b[0mRuntimeError\u001b[0m\u001b[1;33m(\u001b[0m\u001b[1;34m'{}Failed get child nodes'\u001b[0m\u001b[1;33m.\u001b[0m\u001b[0mformat\u001b[0m\u001b[1;33m(\u001b[0m\u001b[0mself\u001b[0m\u001b[1;33m.\u001b[0m\u001b[0mhandle\u001b[0m\u001b[1;33m)\u001b[0m\u001b[1;33m)\u001b[0m\u001b[1;33m\u001b[0m\u001b[1;33m\u001b[0m\u001b[0m\n\u001b[0m\u001b[0;32m    303\u001b[0m \u001b[1;33m\u001b[0m\u001b[0m\n\u001b[0;32m    304\u001b[0m     \u001b[1;32mdef\u001b[0m \u001b[0mget_parent\u001b[0m\u001b[1;33m(\u001b[0m\u001b[0mself\u001b[0m\u001b[1;33m)\u001b[0m\u001b[1;33m:\u001b[0m\u001b[1;33m\u001b[0m\u001b[1;33m\u001b[0m\u001b[0m\n",
      "\u001b[1;31mRuntimeError\u001b[0m: Port_3Failed get child nodes"
     ]
    }
   ],
   "source": [
    "print(port1.get_children(SendPortLinkFault()))"
   ]
  },
  {
   "cell_type": "code",
   "execution_count": 35,
   "metadata": {},
   "outputs": [
    {
     "data": {
      "text/plain": [
       "{'_Version': '3.1.2.629229',\n",
       " '_VersionType': 'alpha',\n",
       " '_TestCaseName': 'Untitled',\n",
       " '_EnableDebug': False,\n",
       " '_ProductNameSuffix': '',\n",
       " '_Name': 'SysEntry_1',\n",
       " '_Enable': True,\n",
       " '_ROMTag': '',\n",
       " 'force_auto_sync': True,\n",
       " 'handle': 'SysEntry_1',\n",
       " 'lower': [<renix_py_api.api_gen.PlCommander_Autogen.PlCommander at 0x9c78a30>,\n",
       "  <renix_py_api.api_gen.HardwareManager_Autogen.HardwareManager at 0x9c788b0>,\n",
       "  <renix_py_api.api_gen.KeepaliveOption_Autogen.KeepaliveOption at 0x9c78af0>,\n",
       "  <renix_py_api.api_gen.StreamImixConfig_Autogen.StreamImixConfig at 0x9c78be0>,\n",
       "  <renix_py_api.api_gen.ResultOption_Autogen.ResultOption at 0x9c8f6d0>,\n",
       "  <renix_py_api.api_gen.StreamGlobalConfig_Autogen.StreamGlobalConfig at 0x9c8f880>,\n",
       "  <renix_py_api.api_gen.ArpOption_Autogen.ArpOption at 0x9c8f8b0>,\n",
       "  <renix_py_api.api_gen.Ipv4PingConfig_Autogen.Ipv4PingConfig at 0x9c8f580>,\n",
       "  <renix_py_api.api_gen.Ipv6PingConfig_Autogen.Ipv6PingConfig at 0x9c8f310>,\n",
       "  <renix_py_api.api_gen.SmartScripter_Autogen.SmartScripter at 0x9c8fac0>,\n",
       "  <renix_py_api.api_gen.L2LearningConfig_Autogen.L2LearningConfig at 0x9c8fbe0>,\n",
       "  <renix_py_api.api_gen.VxlanPingConfig_Autogen.VxlanPingConfig at 0x9c8fc10>,\n",
       "  <renix_py_api.api_gen.OvsdbTableContentsConfig_Autogen.OvsdbTableContentsConfig at 0x9c8fc70>,\n",
       "  <renix_py_api.api_gen.OvsdbExportContentsConfig_Autogen.OvsdbExportContentsConfig at 0x9c8f610>,\n",
       "  <renix_py_api.api_gen.TestSuiteOption_Autogen.TestSuiteOption at 0x9c8fd60>,\n",
       "  <renix_py_api.api_gen.Port_Autogen.Port at 0x9c65430>,\n",
       "  <renix_py_api.api_gen.Port_Autogen.Port at 0x50e6eb0>,\n",
       "  <renix_py_api.api_gen.PageResultView_Autogen.PageResultView at 0x9c78ca0>],\n",
       " 'upper': None,\n",
       " 'relatives': {}}"
      ]
     },
     "execution_count": 35,
     "metadata": {},
     "output_type": "execute_result"
    }
   ],
   "source": [
    "sys_entry.__dict__"
   ]
  },
  {
   "cell_type": "code",
   "execution_count": 49,
   "metadata": {},
   "outputs": [
    {
     "name": "stderr",
     "output_type": "stream",
     "text": [
      "[INFO] 2020-08-10 20:46:10,304  StreamPortConfig_3 has lower: InterFrameGapProfile_3 BurstTransmitConfig_1\n",
      "[INFO] 2020-08-10 20:46:10,304  StreamPortConfig_3 has lower: InterFrameGapProfile_3 BurstTransmitConfig_1\n",
      "[INFO] 2020-08-10 20:46:10,336  EthCopper_3 has lower: EthCopperConfig_3\n",
      "[INFO] 2020-08-10 20:46:10,336  EthCopper_3 has lower: EthCopperConfig_3\n",
      "[INFO] 2020-08-10 20:46:10,341  StreamTemplate_1 has lower: EthernetParameter_1 Ipv4Parameter_1 UdpParameter_1\n",
      "[INFO] 2020-08-10 20:46:10,341  StreamTemplate_1 has lower: EthernetParameter_1 Ipv4Parameter_1 UdpParameter_1\n"
     ]
    },
    {
     "data": {
      "text/plain": [
       "{'_Mode': <EnumLinkFaultMode.DISCONTINUOUS: 2>,\n",
       " '_Duration': 1000,\n",
       " '_Running': False,\n",
       " '_Name': 'SendPortLinkFault_3',\n",
       " '_Enable': True,\n",
       " '_ROMTag': '',\n",
       " 'force_auto_sync': True,\n",
       " 'handle': 'SendPortLinkFault_3',\n",
       " 'lower': [],\n",
       " 'upper': <renix_py_api.api_gen.Port_Autogen.Port at 0x9c65430>,\n",
       " 'relatives': {}}"
      ]
     },
     "execution_count": 49,
     "metadata": {},
     "output_type": "execute_result"
    }
   ],
   "source": [
    "port1.get_children()[0].__dict__"
   ]
  },
  {
   "cell_type": "code",
   "execution_count": 108,
   "metadata": {},
   "outputs": [
    {
     "name": "stderr",
     "output_type": "stream",
     "text": [
      "[INFO] 2020-08-10 20:58:24,434  StreamPortConfig_3 has lower: InterFrameGapProfile_3 BurstTransmitConfig_1\n",
      "[INFO] 2020-08-10 20:58:24,434  StreamPortConfig_3 has lower: InterFrameGapProfile_3 BurstTransmitConfig_1\n",
      "[INFO] 2020-08-10 20:58:24,468  EthCopper_3 has lower: EthCopperConfig_3\n",
      "[INFO] 2020-08-10 20:58:24,468  EthCopper_3 has lower: EthCopperConfig_3\n",
      "[INFO] 2020-08-10 20:58:24,474  StreamTemplate_1 has lower: EthernetParameter_1 Ipv4Parameter_1 UdpParameter_1\n",
      "[INFO] 2020-08-10 20:58:24,474  StreamTemplate_1 has lower: EthernetParameter_1 Ipv4Parameter_1 UdpParameter_1\n"
     ]
    },
    {
     "data": {
      "text/plain": [
       "{'_Mode': <EnumLinkFaultMode.DISCONTINUOUS: 2>,\n",
       " '_Duration': 1000,\n",
       " '_Running': False,\n",
       " '_Name': 'SendPortLinkFault_3',\n",
       " '_Enable': True,\n",
       " '_ROMTag': '',\n",
       " 'force_auto_sync': True,\n",
       " 'handle': 'SendPortLinkFault_3',\n",
       " 'lower': [],\n",
       " 'upper': <renix_py_api.api_gen.Port_Autogen.Port at 0x9c65430>,\n",
       " 'relatives': {}}"
      ]
     },
     "execution_count": 108,
     "metadata": {},
     "output_type": "execute_result"
    }
   ],
   "source": [
    "port1.get_children()[0].__dict__"
   ]
  },
  {
   "cell_type": "code",
   "execution_count": 122,
   "metadata": {},
   "outputs": [
    {
     "name": "stderr",
     "output_type": "stream",
     "text": [
      "[ERROR] 2020-08-11 09:15:54,771  b'_TCLERROR:object Port_3 does not exist'\n",
      "[ERROR] 2020-08-11 09:15:54,771  b'_TCLERROR:object Port_3 does not exist'\n",
      "[ERROR] 2020-08-11 09:15:54,771  b'_TCLERROR:object Port_3 does not exist'\n"
     ]
    },
    {
     "ename": "RuntimeError",
     "evalue": "Port_3Failed get child nodes",
     "output_type": "error",
     "traceback": [
      "\u001b[1;31m---------------------------------------------------------------------------\u001b[0m",
      "\u001b[1;31mRuntimeError\u001b[0m                              Traceback (most recent call last)",
      "\u001b[1;32m<ipython-input-122-f7f5f3da4f94>\u001b[0m in \u001b[0;36m<module>\u001b[1;34m\u001b[0m\n\u001b[1;32m----> 1\u001b[1;33m \u001b[0mprint\u001b[0m\u001b[1;33m(\u001b[0m\u001b[0mport1\u001b[0m\u001b[1;33m.\u001b[0m\u001b[0mget_children\u001b[0m\u001b[1;33m(\u001b[0m\u001b[1;34m'EthCopper'\u001b[0m\u001b[1;33m)\u001b[0m\u001b[1;33m[\u001b[0m\u001b[1;36m0\u001b[0m\u001b[1;33m]\u001b[0m\u001b[1;33m.\u001b[0m\u001b[0m_LinkStatus\u001b[0m\u001b[1;33m)\u001b[0m\u001b[1;33m\u001b[0m\u001b[1;33m\u001b[0m\u001b[0m\n\u001b[0m",
      "\u001b[1;32mc:\\users\\luhairui\\appdata\\local\\programs\\python\\python38\\lib\\site-packages\\renix_py_api\\core.py\u001b[0m in \u001b[0;36mget_children\u001b[1;34m(self, relative_name)\u001b[0m\n\u001b[0;32m    300\u001b[0m             \u001b[1;32mreturn\u001b[0m \u001b[0mret_childen\u001b[0m\u001b[1;33m\u001b[0m\u001b[1;33m\u001b[0m\u001b[0m\n\u001b[0;32m    301\u001b[0m         \u001b[1;32melse\u001b[0m\u001b[1;33m:\u001b[0m\u001b[1;33m\u001b[0m\u001b[1;33m\u001b[0m\u001b[0m\n\u001b[1;32m--> 302\u001b[1;33m             \u001b[1;32mraise\u001b[0m \u001b[0mRuntimeError\u001b[0m\u001b[1;33m(\u001b[0m\u001b[1;34m'{}Failed get child nodes'\u001b[0m\u001b[1;33m.\u001b[0m\u001b[0mformat\u001b[0m\u001b[1;33m(\u001b[0m\u001b[0mself\u001b[0m\u001b[1;33m.\u001b[0m\u001b[0mhandle\u001b[0m\u001b[1;33m)\u001b[0m\u001b[1;33m)\u001b[0m\u001b[1;33m\u001b[0m\u001b[1;33m\u001b[0m\u001b[0m\n\u001b[0m\u001b[0;32m    303\u001b[0m \u001b[1;33m\u001b[0m\u001b[0m\n\u001b[0;32m    304\u001b[0m     \u001b[1;32mdef\u001b[0m \u001b[0mget_parent\u001b[0m\u001b[1;33m(\u001b[0m\u001b[0mself\u001b[0m\u001b[1;33m)\u001b[0m\u001b[1;33m:\u001b[0m\u001b[1;33m\u001b[0m\u001b[1;33m\u001b[0m\u001b[0m\n",
      "\u001b[1;31mRuntimeError\u001b[0m: Port_3Failed get child nodes"
     ]
    }
   ],
   "source": [
    "print(port1.get_children('EthCopper')[0]._LinkStatus)"
   ]
  },
  {
   "cell_type": "code",
   "execution_count": 62,
   "metadata": {},
   "outputs": [
    {
     "name": "stderr",
     "output_type": "stream",
     "text": [
      "[INFO] 2020-08-10 20:48:56,985  StreamPortConfig_4 has lower: InterFrameGapProfile_4 BurstTransmitConfig_2\n",
      "[INFO] 2020-08-10 20:48:56,985  StreamPortConfig_4 has lower: InterFrameGapProfile_4 BurstTransmitConfig_2\n",
      "[INFO] 2020-08-10 20:48:57,022  EthCopper_4 has lower: EthCopperConfig_4\n",
      "[INFO] 2020-08-10 20:48:57,022  EthCopper_4 has lower: EthCopperConfig_4\n",
      "[INFO] 2020-08-10 20:48:57,028  StreamTemplate_2 has lower: EthernetParameter_2 Ipv4Parameter_2 UdpParameter_2\n",
      "[INFO] 2020-08-10 20:48:57,028  StreamTemplate_2 has lower: EthernetParameter_2 Ipv4Parameter_2 UdpParameter_2\n"
     ]
    },
    {
     "data": {
      "text/plain": [
       "{'_Mode': <EnumLinkFaultMode.DISCONTINUOUS: 2>,\n",
       " '_Duration': 1000,\n",
       " '_Running': False,\n",
       " '_Name': 'SendPortLinkFault_4',\n",
       " '_Enable': True,\n",
       " '_ROMTag': '',\n",
       " 'force_auto_sync': True,\n",
       " 'handle': 'SendPortLinkFault_4',\n",
       " 'lower': [],\n",
       " 'upper': <renix_py_api.api_gen.Port_Autogen.Port at 0x50e6eb0>,\n",
       " 'relatives': {}}"
      ]
     },
     "execution_count": 62,
     "metadata": {},
     "output_type": "execute_result"
    }
   ],
   "source": [
    "port2.get_children()[0].__dict__"
   ]
  },
  {
   "cell_type": "code",
   "execution_count": 128,
   "metadata": {},
   "outputs": [
    {
     "name": "stderr",
     "output_type": "stream",
     "text": [
      "[INFO] 2020-08-11 09:17:18,803  EthCopper_2 has lower: EthCopperConfig_2\n",
      "[INFO] 2020-08-11 09:17:18,803  EthCopper_2 has lower: EthCopperConfig_2\n",
      "[INFO] 2020-08-11 09:17:18,803  EthCopper_2 has lower: EthCopperConfig_2\n"
     ]
    },
    {
     "name": "stdout",
     "output_type": "stream",
     "text": [
      "UP\n"
     ]
    }
   ],
   "source": [
    "print(port2.get_children('EthCopper')[0]._LinkStatus._name_)"
   ]
  },
  {
   "cell_type": "code",
   "execution_count": 110,
   "metadata": {},
   "outputs": [],
   "source": [
    "sys_entry = get_sys_entry()"
   ]
  },
  {
   "cell_type": "code",
   "execution_count": 124,
   "metadata": {},
   "outputs": [
    {
     "name": "stderr",
     "output_type": "stream",
     "text": [
      "[INFO] 2020-08-11 09:16:59,090  EthCopper_1 has lower: EthCopperConfig_1\n",
      "[INFO] 2020-08-11 09:16:59,090  EthCopper_1 has lower: EthCopperConfig_1\n",
      "[INFO] 2020-08-11 09:16:59,090  EthCopper_1 has lower: EthCopperConfig_1\n"
     ]
    },
    {
     "name": "stdout",
     "output_type": "stream",
     "text": [
      "SPEED_1G\n"
     ]
    }
   ],
   "source": [
    "print(port1.get_children('EthCopper')[0].LineSpeed._name_)"
   ]
  },
  {
   "cell_type": "code",
   "execution_count": 123,
   "metadata": {},
   "outputs": [
    {
     "name": "stderr",
     "output_type": "stream",
     "text": [
      "[INFO] 2020-08-11 09:16:48,098  Create ports with locations:['//192.168.0.180/1/1', '//192.168.0.180/1/2']\n",
      "[INFO] 2020-08-11 09:16:48,098  Create ports with locations:['//192.168.0.180/1/1', '//192.168.0.180/1/2']\n",
      "[INFO] 2020-08-11 09:16:48,098  Create ports with locations:['//192.168.0.180/1/1', '//192.168.0.180/1/2']\n"
     ]
    },
    {
     "name": "stdout",
     "output_type": "stream",
     "text": [
      "True\n"
     ]
    }
   ],
   "source": [
    "time.sleep(3)\n",
    "reset_rom_cmd = ResetROMCommand()\n",
    "reset_rom_cmd.execute()\n",
    "# service-port配置完成后，需要等待一段时间流才能通\n",
    "time.sleep(10)\n",
    "sys_entry = get_sys_entry()\n",
    "\n",
    "# 占用测试仪端口\n",
    "port1, port2 = create_ports(sys_entry, port_location)"
   ]
  },
  {
   "cell_type": "code",
   "execution_count": null,
   "metadata": {},
   "outputs": [],
   "source": []
  }
 ],
 "metadata": {
  "kernelspec": {
   "display_name": "Python 3",
   "language": "python",
   "name": "python3"
  },
  "language_info": {
   "codemirror_mode": {
    "name": "ipython",
    "version": 3
   },
   "file_extension": ".py",
   "mimetype": "text/x-python",
   "name": "python",
   "nbconvert_exporter": "python",
   "pygments_lexer": "ipython3",
   "version": "3.8.3"
  }
 },
 "nbformat": 4,
 "nbformat_minor": 4
}
